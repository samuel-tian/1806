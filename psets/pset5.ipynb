{
  "cells": [
    {
      "cell_type": "markdown",
      "id": "b5d9071c",
      "metadata": {},
      "source": [
        "# 18.06 Problem Set 5\n",
        "\n",
        "Due Friday, October 14 at 11am."
      ]
    },
    {
      "cell_type": "markdown",
      "id": "ae11de17",
      "metadata": {},
      "source": [
        "## Problem 1 (5+5+5)\n",
        "\n",
        "*Any* linearly independent vectors form a basis, but some basis choices can have distorting effects on data.   In particular, *nearly* parallel vectors can have unpleasant results as a basis.\n",
        "\n",
        "Consider the vector space $\\mathbb{R}^2$ and the *nearly parallel* basis vectors $\\vec{a}_1 = \\begin{pmatrix} 1 \\\\ 0 \\end{pmatrix}$ and $\\vec{a}_2 = \\begin{pmatrix} 1 \\\\ 10^{-6} \\end{pmatrix}$.\n",
        "\n",
        "**(a)** Write the vectors $\\vec{b} = \\begin{pmatrix} 1 \\\\ 0 \\end{pmatrix} = \\vec{a}_1 x_1 + \\vec{a}_2 x_2$ and $\\vec{c} = \\begin{pmatrix} 1 \\\\ 0.1 \\end{pmatrix}  = \\vec{a}_1 y_1 + \\vec{a}_2 y_2$ in the basis $\\vec{a}_1, \\vec{a}_2$: find the coefficients $\\vec{x}$ and $\\vec{y}$.\n",
        "\n",
        "**(b)** Compare $\\Vert \\vec{c}-\\vec{b}\\Vert$ to $\\Vert \\vec{y}-\\vec{x}\\Vert$: what is the ratio $\\Vert \\vec{y}-\\vec{x}\\Vert / \\Vert \\vec{c}-\\vec{b}\\Vert$ (to 2 significant digits)?\n",
        "\n",
        "**(c)** Suppose that you instead have an *orthonormal* basis given by the columns of $Q$ (an $m\\times n$ matrix … not just $\\mathbb{R}^2$ in this part).  For *any* vectors $\\vec{b} = Q\\vec{x}$ and $\\vec{c} = Q\\vec{y}$ in this basis, show that $\\Vert \\vec{y}-\\vec{x}\\Vert = \\Vert \\vec{c}-\\vec{b}\\Vert$: orthonormal bases \"preserve distances\"."
      ]
    },
    {
      "cell_type": "markdown",
      "id": "65ba3c74",
      "metadata": {},
      "source": [
        "## Problem 2 (5+5+5)\n",
        "\n",
        "Suppose we have four unknowns $\\vec{x} = [x_1, x_2, x_3, x_4] \\in \\mathbb{R}^4$, and we want to solve the four *nonlinear* equations:\n",
        "$$\n",
        "\\underbrace{\\begin{pmatrix} -5 & -1 & -2 \\\\ -1 & -2 & 4 \\\\ -2 & 4 & -8 \\end{pmatrix}}_A \\begin{pmatrix} x_1 \\\\ x_2 \\\\ x_3 \\end{pmatrix} = x_4 \\begin{pmatrix} x_1 \\\\ x_2 \\\\ x_3 \\end{pmatrix} \\, , \\\\\n",
        "x_1^2 + x_2^2 + x_3^2 = 1 \\, .\n",
        "$$\n",
        "\n",
        "**(a)** Rewrite this equation in the form $\\vec{f}(\\vec{x}) = \\vec{0}$, and compute both $\\vec{f}(\\vec{x})$ and its Jacobian matrix $J(\\vec{x})$.\n",
        "\n",
        "**(b)** Fill in the Julia functions below to compute $f$ and $J$, and check that $\\vec{f}(\\vec{x} + \\vec{\\delta}) - \\vec{f}(\\vec{x})\\approx J(\\vec{x}) \\vec{\\delta}$ for a $x=[1,2,3,4]$ and a \"random\"small vector $\\delta = [-2,3,4,1] \\times 10^{-8}$, using the sample code below.\n",
        "\n",
        "**(c)** Starting with $x=[1,2,3,4]$, run a few steps of Newton's method (either copy-and-paste a few steps `@show x = x - J(x) \\ f(x)` by hand, or write a loop), and verify that it converges quickly.   Check that after a few steps you have a very accurate solution: make sure that `A*x[1:3]` is nearly `x[4]*x[1:3]` and that `x[1:3]'*x[1:3]` is nearly `1`.  How many Newton steps did it take for `x[4]` to have 4 correct decimal digits?"
      ]
    },
    {
      "cell_type": "code",
      "execution_count": 1,
      "id": "fd394b70",
      "metadata": {},
      "outputs": [
        {
          "data": {
            "text/plain": [
              "J (generic function with 1 method)"
            ]
          },
          "metadata": {},
          "output_type": "display_data"
        }
      ],
      "source": [
        "# part (b)\n",
        "\n",
        "using LinearAlgebra\n",
        "\n",
        "A = [ -5  -1  -2\n",
        "      -1  -2   4\n",
        "      -2   4  -8]\n",
        "\n",
        "function f(x)\n",
        "    x1 = x[1]\n",
        "    x2 = x[2]\n",
        "    x3 = x[3]\n",
        "    x4 = x[4]\n",
        "    return [(-5-x4)*x1-x2-2*x3\n",
        "            -x1+x2*(-2-x4)+4*x3\n",
        "            -2*x1+4*x2+(-8-x4)*x3\n",
        "            x1*x1+x2*x2+x3*x3-1\n",
        "    ] # return a 4-component vector\n",
        "end\n",
        "\n",
        "function J(x)\n",
        "    x1 = x[1]\n",
        "    x2 = x[2]\n",
        "    x3 = x[3]\n",
        "    x4 = x[4]\n",
        "    return [-5-x4 -1 -2 -x1\n",
        "            -1 -2-x4 4 -x2\n",
        "            -2 4 -8-x4 -x3\n",
        "            2*x1 2*x2 2*x3 0\n",
        "    ] # return a 4x4 matrix of the Jacobian\n",
        "end"
      ]
    },
    {
      "cell_type": "code",
      "execution_count": 2,
      "id": "37d5671b",
      "metadata": {},
      "outputs": [
        {
          "name": "stdout",
          "output_type": "stream",
          "text": [
            "f(x + δ) - f(x) = [6.000000141170858e-8, -1.999999810209374e-8, -3.500000076428478e-7, 3.2000000160792297e-7]\n",
            "J(x) * δ = [6.0e-8, -2.0000000000000027e-8, -3.5000000000000004e-7, 3.2000000000000006e-7]\n"
          ]
        },
        {
          "data": {
            "text/plain": [
              "4-element Vector{Float64}:\n",
              "  6.0e-8\n",
              " -2.0000000000000027e-8\n",
              " -3.5000000000000004e-7\n",
              "  3.2000000000000006e-7"
            ]
          },
          "metadata": {},
          "output_type": "display_data"
        }
      ],
      "source": [
        "# part (b) continued: check\n",
        "\n",
        "x = [1,2,3,4]\n",
        "δ = [-2,3,4,1] * 1e-8 # a \"random\" small vector\n",
        "\n",
        "# these should be very close in value:\n",
        "@show f(x+δ) - f(x)\n",
        "@show J(x)*δ"
      ]
    },
    {
      "cell_type": "code",
      "execution_count": 3,
      "id": "f74a5a47",
      "metadata": {},
      "outputs": [
        {
          "name": "stdout",
          "output_type": "stream",
          "text": [
            "x = x - J(x) \\ f(x) = [-0.1952807160292922, 1.842961757526444, 1.3364524003254679, 1.241659886086249]\n",
            "x = x - J(x) \\ f(x) = [-0.41009227663755154, 1.1694709608315415, 0.6547187442392998, 0.8281625115675236]\n",
            "x = x - J(x) \\ f(x) = [-0.3304431164513941, 0.8791948182276725, 0.4865330997001922, 0.6486537276345778]\n",
            "x = x - J(x) \\ f(x) = [-0.3136372120780591, 0.832271623035906, 0.46055892881484034, 0.5934595790624396]\n",
            "x = x - J(x) \\ f(x) = [-0.3131506270363527, 0.8309587069065312, 0.4598334470658898, 0.5903675561447499]\n",
            "x = x - J(x) \\ f(x) = [-0.3131502414279795, 0.8309576722193772, 0.45983287537419326, 0.590362680184185]\n",
            "x = x - J(x) \\ f(x) = [-0.3131502414277405, 0.8309576722187336, 0.459832875373838, 0.5903626801781222]\n",
            "x = x - J(x) \\ f(x) = [-0.31315024142774045, 0.8309576722187335, 0.45983287537383793, 0.5903626801781224]\n",
            "x = x - J(x) \\ f(x) = [-0.3131502414277405, 0.8309576722187336, 0.459832875373838, 0.5903626801781224]\n",
            "x = x - J(x) \\ f(x) = [-0.3131502414277405, 0.8309576722187335, 0.45983287537383793, 0.5903626801781223]\n"
          ]
        }
      ],
      "source": [
        "# part (c)\n",
        "\n",
        "x = [1,2,3,4]\n",
        "\n",
        "# a single Newton step:\n",
        "for i in 1:10\n",
        "\t@show x = x - J(x) \\ f(x)\n",
        "end"
      ]
    },
    {
      "cell_type": "code",
      "execution_count": 4,
      "id": "d1813e38",
      "metadata": {},
      "outputs": [
        {
          "name": "stdout",
          "output_type": "stream",
          "text": [
            "f(x) = [1.1102230246251565e-16, 0.0, 0.0, -1.1102230246251565e-16]\n",
            "A * x[1:3] = [-0.18487221582770685, 0.4905663984856252, 0.2714681687397116]\n",
            "x[4] * x[1:3] = [-0.18487221582770696, 0.49056639848562517, 0.27146816873971147]\n",
            "(x[1:3])' * x[1:3] = 0.9999999999999999\n"
          ]
        },
        {
          "data": {
            "text/plain": [
              "0.9999999999999999"
            ]
          },
          "metadata": {},
          "output_type": "display_data"
        }
      ],
      "source": [
        "# part (c): checks\n",
        "\n",
        "@show f(x)\n",
        "\n",
        "@show A*x[1:3]\n",
        "@show x[4]*x[1:3]\n",
        "@show x[1:3]'*x[1:3] # same as x[1]^2 + x[2]^2 + x[3]^2\n",
        "\n",
        "# Was x a correct solution?"
      ]
    },
    {
      "cell_type": "markdown",
      "id": "81f98c96",
      "metadata": {},
      "source": [
        "## Problem 3 (5+5+10)\n",
        "\n",
        "In class, we showed how to differentiate some matrix-valued functions: $d(A^2) = A dA + dA A$, which is a linear operator acting on $dA$, and also $d(A^{-1}) = -A^{-1} dA A^{-1}$.\n",
        "\n",
        "**(a)** Write $d(A^4)$ as a linear operator acting on $dA$.\n",
        "\n",
        "**(b)** We can compute $f(A) = x^T A^{-1} y$ (a scalar-valued function of a square invertible matrix $A$) by solving only *one* linear system $z = A^{-1}y$ (i.e. solving $Az = y$) and then taking a dot product.   Show that $df$ (also a scalar!), for any infinitesimal change $dA$, can be computed by solving only *one* additional linear system $\\_\\_\\_\\_\\_\\_ = \\_\\_\\_\\_\\_\\_$ (in addition to solving $Az = y$), and then taking some matrix/vector products.   (This is called an \"adjoint solve\" by engineers or \"backpropagation\" by computer scientists.)\n",
        "\n",
        "**(c)** Let $A = \\begin{pmatrix} a_1 & a_3 \\\\ a_2 & a_4 \\end{pmatrix}$ be a $2\\times 2$ matrix.   Let $\\text{vec}(A) = \\begin{pmatrix} a_1 \\\\ a_2 \\\\ a_3 \\\\ a_4\\end{pmatrix} = \\vec{a}$ be the vector formed by [\"stacking\" the columns](https://tinyurl.com/bdz9xvts) of $A$ (this is computed by [`vec(A)` in Julia](https://docs.julialang.org/en/v1/base/arrays/#Base.vec)).    Equivalently, $\\vec{a}$ are the coefficients you get from expanding $A$ in the basis \\_\\_\\_\\_\\_\\_\\_\\_\\_\\_\\_\\_\\_\\_.   Let $dA = \\begin{pmatrix} da_1 & da_3 \\\\ da_2 & da_4 \\end{pmatrix}$.   Show that $\\text{vec}(A dA + dA A) = (\\text{some matrix}) \\text{vec}(dA)$: find the $4\\times 4$ \"some matrix\" (which expresses the linear operator $A dA + dA A$ in this \"vectorized\" basis).  Check your answer in Julia for an arbitrary choice of `A` and `dA`:"
      ]
    },
    {
      "cell_type": "code",
      "execution_count": 5,
      "id": "3679bfce",
      "metadata": {},
      "outputs": [
        {
          "data": {
            "text/plain": [
              "true"
            ]
          },
          "metadata": {},
          "output_type": "display_data"
        }
      ],
      "source": [
        "# check your answer for part (c):\n",
        "\n",
        "A = [1 2\n",
        "     3 4]\n",
        "a = vec(A)\n",
        "dA = [7 9\n",
        "      6 -3]\n",
        "\n",
        "a1 = A[1]\n",
        "a2 = A[2]\n",
        "a3 = A[3]\n",
        "a4 = A[4]\n",
        "\n",
        "some_matrix =\n",
        "[2*a1 a3 a2 0\n",
        " a2 a1+a4 0 a2\n",
        " a3 0 a1+a4 a3\n",
        " 0 a3 a2 2*a4]\n",
        "\n",
        "vec(A*dA + dA*A) ≈ some_matrix * vec(dA) # should return \"true\""
      ]
    },
    {
      "cell_type": "markdown",
      "id": "ff5c6a4a",
      "metadata": {},
      "source": [
        "## Problem 4 (5+5+5+5)\n",
        "\n",
        "(From Strang, section 4.4.)\n",
        "\n",
        "**(a)** If $A$ has three orthogonal columns of lengths 1,2,3, what is $A^T A$?\n",
        "\n",
        "**(b)** Give an example of a matrix $Q$ with orthonormal columns but $QQ^T \\ne I$.\n",
        "\n",
        "**(c)** Give an example of two orthogonal vectors that are *not* linearly independent.\n",
        "\n",
        "**(d)** If we have a basis $\\vec{a}_1 = \\begin{pmatrix} 1 \\\\ 2 \\\\ 3 \\end{pmatrix}, \\vec{a}_2, \\vec{a}_3$ of orthogonal vectors in $\\mathbb{R}^3$ that are *not* normalized to length 1, and $$\\underbrace{\\begin{pmatrix} -1 \\\\ 3 \\\\ 2 \\end{pmatrix}}_{\\vec{b}} = Ax = \\vec{a}_1 x_1 + \\vec{a}_2 x_2 + \\vec{a}_3 x_3\\,,$$ then $x_1 = \\_\\_\\_\\_\\_\\_\\_\\_\\_\\_\\_\\_$."
      ]
    },
    {
      "cell_type": "code",
      "execution_count": 6,
      "id": "b071a1e6",
      "metadata": {},
      "outputs": [
        {
          "name": "stdout",
          "output_type": "stream",
          "text": [
            "x = A \\ b = [0.7857142857142857, 0.9999999999999999, 0.07142857142857144]\n",
            "A * x = [-0.9999999999999997, 3.0, 2.0]\n",
            "c = [0.7857142857142856, 1.0, 0.0714285714285714]\n",
            "A * c = [-1.0000000000000002, 2.9999999999999996, 1.9999999999999998]\n"
          ]
        },
        {
          "data": {
            "text/plain": [
              "3-element Vector{Float64}:\n",
              " -1.0000000000000002\n",
              "  2.9999999999999996\n",
              "  1.9999999999999998"
            ]
          },
          "metadata": {},
          "output_type": "display_data"
        }
      ],
      "source": [
        "A = [1 -2 3\n",
        "\t 2 1 6\n",
        "\t 3 0 -5\n",
        "]\n",
        "b = [-1\n",
        "3\n",
        "2]\n",
        "@show x = A \\ b\n",
        "@show A*x\n",
        "\n",
        "v1 = A[:,1]\n",
        "v2 = A[:,2]\n",
        "v3 = A[:,3]\n",
        "\n",
        "c = [ v1/(v1⋅v1)⋅b\n",
        "\t  v2/(v2⋅v2)⋅b\n",
        "\t  v3/(v3⋅v3)⋅b\n",
        "]\n",
        "\n",
        "@show c\n",
        "@show A*c"
      ]
    },
    {
      "cell_type": "code",
      "execution_count": 7,
      "id": "a7f5149e",
      "metadata": {},
      "outputs": [],
      "source": []
    }
  ],
  "metadata": {
    "@webio": {
      "lastCommId": null,
      "lastKernelId": null
    },
    "kernelspec": {
      "display_name": "Julia 1.8.1",
      "language": "julia",
      "name": "julia-1.8"
    },
    "language_info": {
      "file_extension": ".jl",
      "mimetype": "application/julia",
      "name": "julia",
      "version": "1.8.2"
    }
  },
  "nbformat": 4,
  "nbformat_minor": 5
}
