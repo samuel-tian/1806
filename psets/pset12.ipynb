{
 "cells": [
  {
   "cell_type": "markdown",
   "id": "de493859",
   "metadata": {},
   "source": [
    "# 18.06 Problem Set 12\n",
    "\n",
    "Due 11am on Friday, December 2."
   ]
  },
  {
   "cell_type": "markdown",
   "id": "75903dda",
   "metadata": {},
   "source": [
    "## Problem 1 (5+5 points)\n",
    "\n",
    "Suppose we are solving the ODE $\\frac{dx}{dt} = Ax$ with a given initial condition $x(0)$, where $A$ is an $m \\times m$ matrix.\n",
    "\n",
    "**(a)** Show that we can obtain the solutions $x(\\Delta t), x(2\\Delta t), x(3\\Delta t), \\ldots$ at a sequence of discrete times $n\\Delta t$ from $Bx(0), B^2x(0), B^3 x(0), \\ldots$, i.e. by multiplying each preceding solution by some matrix $B$.  (For example, we might use this to plot the solution at a sequence of points.) What is $B$?\n",
    "\n",
    "**(b)** We know from class that $x(t)$ must be **exponentially decaying** if all of the eigenvalues of $A$ have **negative real parts**.    $B^n x(0)$ is decaying if all of the eigenvalues of $B$ have \\_\\_\\_\\_\\_\\_\\_\\_\\_\\_\\_\\_ — why must this follow if the eigenvalues of $A$ have negative real parts?"
   ]
  },
  {
   "cell_type": "markdown",
   "id": "066053f5",
   "metadata": {},
   "source": [
    "## Problem 2 (10+5 points)\n",
    "\n",
    "Suppose that $A$ is a $3 \\times 3$ real-symmetric matrix.  (Recall from class that such a matrix has real eigenvalues and orthogonal eigenvectors.)    Suppose its eigenvalues are $\\lambda_1 = 1, \\lambda_2 = -1, \\lambda_3 = -2$, and corresponding eigenvectors are $x_1,x_2,x_3$.  You are given that $x_1 = [1,0,1]$ (denoting a column vector ala Julia).\n",
    "\n",
    "**(a)** Give an approximate solution at $t=100$ to $\\frac{dx}{dt}=Ax$ for $x(0) = [1,1,0]$.    (Give a specific quantitative vector, even if the vector is very big or very small; an answer like \"$\\approx 0$\" or \"$\\approx \\infty$\" is not acceptable.)\n",
    "\n",
    "**(b)** If $x_2 = [0,1,0]$, give a possible $x_3$.   (You should *not* use these $x_2, x_3$ to solve part (a).)"
   ]
  },
  {
   "cell_type": "code",
   "execution_count": 2,
   "id": "73aae2da",
   "metadata": {},
   "outputs": [
    {
     "data": {
      "text/plain": [
       "3×3 Matrix{Float64}:\n",
       " -0.5   0.0   1.5\n",
       "  0.0  -1.0   0.0\n",
       "  1.5   0.0  -0.5"
      ]
     },
     "metadata": {},
     "output_type": "display_data"
    },
    {
     "data": {
      "text/plain": [
       "3-element Vector{Float64}:\n",
       " 1.3440585709080678e43\n",
       " 0.0\n",
       " 1.3440585709080678e43"
      ]
     },
     "metadata": {},
     "output_type": "display_data"
    },
    {
     "data": {
      "text/plain": [
       "1.3440585709080678e43"
      ]
     },
     "metadata": {},
     "output_type": "display_data"
    }
   ],
   "source": [
    "x1 = [1, 0, 1]\n",
    "x2 = [0, 1, 0]\n",
    "x3 = [1, 0, -1]\n",
    "\n",
    "X = [x1 x2 x3]\n",
    "λ = [1 0 0; 0 -1 0; 0 0 -2]\n",
    "display(X * λ * inv(X))\n",
    "display(X * [exp(100) 0 0; 0 0 0; 0 0 0] * inv(X) * [1, 1, 0])\n",
    "display(0.5*exp(100))"
   ]
  },
  {
   "cell_type": "markdown",
   "id": "990a56f5",
   "metadata": {},
   "source": [
    "## Problem 3 (3+3+5+3 points)\n",
    "\n",
    "Let $X = \\begin{pmatrix} x_1 & x_2 & \\cdots & x_m \\end{pmatrix}$ denote eigenvectors of the diagonalizable $m \\times m$ **complex** matrix $A$, with corresponding eigenvalues $\\lambda_1, \\ldots, \\lambda_m$.\n",
    "\n",
    "**(a)** The eigenvalues of $A^H$ must be \\_\\_\\_\\_\\_\\_\\_\\_?   Check your answer for a random complex matrix in Julia, computed with `A = rand(ComplexF64, 5,5)`; note that $A^H$ in Julia is `A'`.\n",
    "\n",
    "**(b)** If $A$ is real (so that $A^H = A^T$), why is your answer in (a) consistent with the statement in class that $A$ and $A^T$ have identical eigenvalues?\n",
    "\n",
    "**(c)** From $A = X \\Lambda X^{-1}$, derive a relationship between eigenvectors $y_1, \\ldots, y_m$ of $A^H$ (the \"left eigenvectors\" of $A$) and the rows or columns of $X^{-1}$.\n",
    "\n",
    "**(d)** Using the eigenvectors $y_k$ from (b), what must be true of $y_1^H x_2$ (and similarly for other dot products)?"
   ]
  },
  {
   "cell_type": "code",
   "execution_count": 5,
   "id": "992c450a",
   "metadata": {},
   "outputs": [
    {
     "data": {
      "text/plain": [
       "5-element Vector{ComplexF64}:\n",
       " -0.6409835550976052 + 0.08491351206011452im\n",
       " 0.07230223095471676 - 0.6256905487036842im\n",
       " 0.24563562014957063 + 0.14966814892322083im\n",
       "   0.713773436949044 - 0.1437705886190936im\n",
       "   2.568359322955879 + 2.359311968043842im"
      ]
     },
     "metadata": {},
     "output_type": "display_data"
    },
    {
     "data": {
      "text/plain": [
       "5-element Vector{ComplexF64}:\n",
       " -0.6409835550976065 - 0.08491351206011476im\n",
       " 0.07230223095471688 + 0.6256905487036843im\n",
       " 0.24563562014957052 - 0.149668148923221im\n",
       "   0.713773436949045 + 0.14377058861909414im\n",
       "  2.5683593229558803 - 2.3593119680438406im"
      ]
     },
     "metadata": {},
     "output_type": "display_data"
    }
   ],
   "source": [
    "using LinearAlgebra\n",
    "\n",
    "A = rand(ComplexF64, 5, 5)\n",
    "X = eigvecs(A)\n",
    "\n",
    "display(eigvals(A))\n",
    "display(eigvals(A'))"
   ]
  },
  {
   "cell_type": "code",
   "execution_count": 4,
   "id": "3d9a02fd",
   "metadata": {},
   "outputs": [
    {
     "data": {
      "text/plain": [
       "5×5 Matrix{ComplexF64}:\n",
       "  -0.188352-0.455519im   0.433006+0.59885im    …  -0.0819908+0.0357057im\n",
       "  -0.547103-0.364641im   0.197579-0.0271251im       0.834138-0.0236997im\n",
       "  -0.876006+0.869072im   0.107828-1.28876im       -0.0693259+0.879251im\n",
       " -0.0269974-0.932849im  -0.191722+1.41014im         -0.58138-0.511698im\n",
       "   0.507401+0.490585im   0.460351-0.0307555im       0.742174+0.210708im"
      ]
     },
     "metadata": {},
     "output_type": "display_data"
    },
    {
     "data": {
      "text/plain": [
       "5×5 Matrix{ComplexF64}:\n",
       "  -0.409895+0.0976866im   -0.467706+0.331285im   …   0.45727-0.245032im\n",
       "   0.631729+0.0im          0.172837+0.0187446im     0.319341+0.114163im\n",
       "  -0.376522-0.250298im    -0.188502-0.0355734im     0.158533+0.126236im\n",
       "   0.445027+0.122682im   -0.0604709-0.267691im      0.449834+0.225476im\n",
       " -0.0163337-0.074682im     0.727436+0.0im           0.567092+0.0im"
      ]
     },
     "metadata": {},
     "output_type": "display_data"
    }
   ],
   "source": [
    "display(\"text/plain\", inv(X))\n",
    "display(\"text/plain\", eigvecs(A'))"
   ]
  },
  {
   "cell_type": "markdown",
   "id": "08708d3d",
   "metadata": {},
   "source": [
    "## Problem 4 (5+5+2 points)\n",
    "\n",
    "Suppose that $A$ is an $m \\times m$ **real-symmetric** matrix ($A = A^T$).  Consider the function:\n",
    "\n",
    "$$\n",
    "f(x) = \\frac{x^T A x}{x^T x}\n",
    "$$\n",
    "\n",
    "that take as input a real nonzero vector $x \\in \\mathbb{R}^m$ and returns a real number.\n",
    "\n",
    "**(a)** Compute the gradient $\\nabla f$ (with respect to $x$).\n",
    "\n",
    "**(b)** Show that $\\nabla f = 0$ if and only if $x$ is some *eigenvector* of $A$, in which case $f(x)$ is equal to the eigenvalue!\n",
    "\n",
    "**(c)** If the (real) eigenvalues of $A$ are $\\lambda_1 \\ge \\lambda_2 \\ge \\cdots \\ge \\lambda_m$, then what are the minimum and maximum possible values of $f(x)$?"
   ]
  }
 ],
 "metadata": {
  "kernelspec": {
   "display_name": "Julia 1.8.2",
   "language": "julia",
   "name": "julia-1.8"
  },
  "language_info": {
   "file_extension": ".jl",
   "mimetype": "application/julia",
   "name": "julia",
   "version": "1.8.2"
  }
 },
 "nbformat": 4,
 "nbformat_minor": 5
}
