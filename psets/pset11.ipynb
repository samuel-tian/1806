{
 "cells": [
  {
   "cell_type": "markdown",
   "id": "0d30ffa1",
   "metadata": {},
   "source": [
    "# 18.06 Problem Set 11\n",
    "\n",
    "Due **Wednesday**, November 23 at 11am."
   ]
  },
  {
   "cell_type": "markdown",
   "id": "8381feb2",
   "metadata": {},
   "source": [
    "## Problem 1 (5+5+5 points)\n",
    "\n",
    "Suppose that $M$ is a diagonalizable $m \\times m$ Markov matrix with all positive entries.    For each of the following, say whether the ODE solutions at large times $t$ are expected to be **exponentially growing**, **exponentially decaying**, **oscillating forever**, or **approaching a nonzero constant**, for a randomly chosen initial condition $x(0)$ — or **multiple possibilities depending on M**.  Justify your answers.\n",
    "\n",
    "**(a)** $\\frac{dx}{dt} = Mx$.\n",
    "\n",
    "**(b)** $\\frac{dx}{dt} = (M-I)x$.\n",
    "\n",
    "**(c)** $\\frac{dx}{dt} = (M^2-M-I)x$."
   ]
  },
  {
   "cell_type": "markdown",
   "id": "1398486f",
   "metadata": {},
   "source": [
    "## Problem 2 (10 points)\n",
    "\n",
    "In class we showed that, for a complex-conjugate pair of eigenvalues $\\lambda_1 = a+ib$  and $\\lambda_2 = \\overline{\\lambda_1} = a-ib$, eigenvectors $x_1$ and $x_2 = \\overline{x_1}$, and (scalar) coefficients $c_1$ and $c_2 = \\overline{c_1}$, we can write\n",
    "\n",
    "$$\n",
    "c_1 e^{\\lambda_1 t}x_1  + c_2 e^{\\lambda_2 t}x_2 = \n",
    "c_1 e^{\\lambda_1 t}x_1 + \\overline{c_1 e^{\\lambda_1 t}x_1} = 2\\mathrm{Re}\\left[ c_1 e^{\\lambda_1 t}x_1 \\right] = 2e^{at} \\mathrm{Re}\\left[ c_1 e^{ibt}x_1 \\right]\n",
    "$$\n",
    "which turned into a vector of terms proportional to $r e^{at} \\cos(bt + \\phi)$, where the amplitude $r$ and phase $\\phi$ depended on the coefficient $c_1$ and the eigenvector $x_1$ components.\n",
    "\n",
    "Derive that we can **alternatively** write\n",
    "$$\n",
    "c_1 e^{\\lambda_1 t}x_1 + \\overline{c_1 e^{\\lambda_1 t}x_1} = e^{at} \\left(v_1 \\cos(bt) + v_2 \\sin(bt) \\right)\n",
    "$$\n",
    "for some vectors $v_1 = \\_\\_\\_\\_\\_, v_2 = \\_\\_\\_\\_\\_$ in terms of $c_1$ and $x_1$.  (Hint: break $c_1 x_1$ into its real and imaginary parts, i.e. write $c_1 x_1 = \\text{(real part)} + i \\text{(imag part)}$.)  "
   ]
  },
  {
   "cell_type": "markdown",
   "id": "34993f46",
   "metadata": {},
   "source": [
    "## Problem 3 (10+5 points)\n",
    "\n",
    "Professor May Trix is trying to construct an 18.06 homework question in which $\\frac{dx}{dt}=Ax$ has the solution $$x(t)=v_{1}e^{-3t}\\cos(2t)+v_{2}e^{-t}+v_{3}e^{-3t}\\sin(2t)$$ for some nonzero real  constant vectors $v_{1},v_{2},v_{3}$, and some initial condition $x(0)$. Help May construct $A, v_{1}, v_{2}, v_{3},$ and $x(0)$:\n",
    "\n",
    "**(a)** Write down a numerical formula for a possible real matrix $A$ such that $A$ is as small in size as possible and where $A$ contains no zero entries. Your formula can be left as a product of some matrices and/or matrix inverses — you don't need to multiply them out or invert any matrices, but you should give possible numeric values for all of the matrices in your formula.  (You don't need to explicitly check that your $A$ has no zero entries as long as zero entries seem unlikely. e.g. the inverse of a matrix with no special structure probably has no zero entries.  It wouldn't hurt to check in Julia, however.)\n",
    "\n",
    "Hint: do problem 2 first.\n",
    "\n",
    "(Note that there are many possible answers here, but they will all have certain things in common.)\n",
    "\n",
    "**(b)** Using the numbers that you chose from the formula in your previous part, give possible corresponding (numeric) values for $x(0)$, $v_{1}$, $v_{2}$, and $v_{3}$."
   ]
  },
  {
   "cell_type": "code",
   "execution_count": 2,
   "id": "5d074530",
   "metadata": {},
   "outputs": [
    {
     "data": {
      "text/plain": [
       "3-element Vector{ComplexF64}:\n",
       " 2.0 + 3.0im\n",
       " 3.0 + 1.0im\n",
       " 1.0 + 2.0im"
      ]
     },
     "metadata": {},
     "output_type": "display_data"
    },
    {
     "data": {
      "text/plain": [
       "3-element Vector{Float64}:\n",
       " 1.0\n",
       " 2.0\n",
       " 3.0"
      ]
     },
     "metadata": {},
     "output_type": "display_data"
    },
    {
     "data": {
      "text/plain": [
       "3-element Vector{ComplexF64}:\n",
       " 2.0 - 3.0im\n",
       " 3.0 - 1.0im\n",
       " 1.0 - 2.0im"
      ]
     },
     "metadata": {},
     "output_type": "display_data"
    },
    {
     "data": {
      "text/plain": [
       "3×3 Matrix{Float64}:\n",
       " 8.88178e-16  -4.44089e-16   4.44089e-16\n",
       " 1.77636e-15  -6.66134e-16  -2.77556e-17\n",
       " 6.66134e-16  -4.44089e-16   1.11022e-16"
      ]
     },
     "metadata": {},
     "output_type": "display_data"
    },
    {
     "data": {
      "text/plain": [
       "3×3 Matrix{Float64}:\n",
       " -2.33333  -3.33333  2.66667\n",
       "  1.11111  -5.22222  2.44444\n",
       " -1.11111  -1.77778  0.555556"
      ]
     },
     "metadata": {},
     "output_type": "display_data"
    },
    {
     "data": {
      "text/plain": [
       "3-element Vector{ComplexF64}:\n",
       "                -3.0 + 1.9999999999999996im\n",
       " -2.9999999999999982 - 1.9999999999999984im\n",
       "                -1.0 - 3.0709851391506675e-16im"
      ]
     },
     "metadata": {},
     "output_type": "display_data"
    }
   ],
   "source": [
    "using LinearAlgebra\n",
    "\n",
    "v1 = [2., 3., 1.] + [3., 1., 2.] * im\n",
    "v2 = [1., 2., 3.]\n",
    "v3 = conj(v1)\n",
    "\n",
    "V = [v1 v2 v3]\n",
    "λ = [-3+2*im 0 0; 0 -1 0; 0 0 -3-2*im]\n",
    "A = V * λ * inv(V)\n",
    "\n",
    "display(v1)\n",
    "display(v2)\n",
    "display(v3)\n",
    "display(imag(A))\n",
    "display(real(A))\n",
    "display(eigvals(A))"
   ]
  },
  {
   "cell_type": "code",
   "execution_count": 3,
   "id": "df096a98",
   "metadata": {},
   "outputs": [
    {
     "data": {
      "text/plain": [
       "retcode: Success\n",
       "Interpolation: specialized 9th order lazy interpolation, specialized 4rd order \"free\" stiffness-aware interpolation\n",
       "t: 5-element Vector{Float64}:\n",
       " 0.0\n",
       " 0.2345306766468363\n",
       " 0.5538313931028189\n",
       " 0.9186622378611253\n",
       " 1.0\n",
       "u: 5-element Vector{Vector{ComplexF64}}:\n",
       " [1.0 + 0.0im, 1.0 + 0.0im, 1.0 + 0.0im]\n",
       " [0.4623462899642701 + 6.679476341887042e-17im, 0.6324476073527598 + 9.654547823037712e-17im, 0.5788728218119694 + 4.6202816606557555e-18im]\n",
       " [0.13816344030610445 + 1.5402386474979737e-17im, 0.30474520499212737 + 3.3014882645135e-17im, 0.301471792994799 - 4.500959788917899e-17im]\n",
       " [0.04234410918882228 - 1.0432678074908059e-17im, 0.14229363222110283 - 2.2351318924140125e-17im, 0.18094063975676417 - 6.195414009540006e-17im]\n",
       " [0.036502421723380835 - 1.0756514933488107e-17im, 0.12390440112078789 - 2.6955436085228115e-17im, 0.1660351472872359 - 6.129092767829596e-17im]"
      ]
     },
     "execution_count": 3,
     "metadata": {},
     "output_type": "execute_result"
    }
   ],
   "source": [
    "using DifferentialEquations\n",
    "\n",
    "x0 = [1., 1., 1.]\n",
    "x0 = collect(Complex{Float64}, x0)\n",
    "\n",
    "f(u, p, t) = A * u\n",
    "\n",
    "prob = ODEProblem(f, x0, (0.0, 1.0))\n",
    "sol = solve(prob)"
   ]
  },
  {
   "cell_type": "code",
   "execution_count": 4,
   "id": "6a20d443",
   "metadata": {},
   "outputs": [
    {
     "data": {
      "text/plain": [
       "3-element Vector{ComplexF64}:\n",
       " 0.8333333333333336 + 0.0im\n",
       " 0.6666666666666667 + 0.0im\n",
       " 0.5000000000000002 + 0.0im"
      ]
     },
     "metadata": {},
     "output_type": "display_data"
    },
    {
     "data": {
      "text/plain": [
       "3-element Vector{ComplexF64}:\n",
       " 0.1666666666666667 - 1.0547791946098756e-17im\n",
       " 0.3333333333333334 - 2.1095583892197513e-17im\n",
       " 0.5000000000000001 - 3.164337583829627e-17im"
      ]
     },
     "metadata": {},
     "output_type": "display_data"
    },
    {
     "data": {
      "text/plain": [
       "3-element Vector{ComplexF64}:\n",
       " -0.16666666666666652 + 0.0im\n",
       "  0.33333333333333354 + 0.0im\n",
       " -0.16666666666666663 + 0.0im"
      ]
     },
     "metadata": {},
     "output_type": "display_data"
    },
    {
     "data": {
      "text/plain": [
       "5-element Vector{Vector{Float64}}:\n",
       " [1.0000000000000002, 1.0000000000000002, 1.0000000000000004]\n",
       " [0.46234629047294373, 0.6324476075262029, 0.5788728221505295]\n",
       " [0.13816344938428976, 0.3047452139169659, 0.3014717982042292]\n",
       " [0.042344113336072624, 0.14229364681448578, 0.18094064063428467]\n",
       " [0.036502422167355844, 0.12390441077434988, 0.1660351462252509]"
      ]
     },
     "metadata": {},
     "output_type": "display_data"
    },
    {
     "data": {
      "text/plain": [
       "5-element Vector{Vector{Float64}}:\n",
       " [1.0, 1.0, 1.0]\n",
       " [0.4623462899642701, 0.6324476073527598, 0.5788728218119694]\n",
       " [0.13816344030610445, 0.30474520499212737, 0.301471792994799]\n",
       " [0.04234410918882228, 0.14229363222110283, 0.18094063975676417]\n",
       " [0.036502421723380835, 0.12390440112078789, 0.1660351472872359]"
      ]
     },
     "metadata": {},
     "output_type": "display_data"
    }
   ],
   "source": [
    "c = inv(V) * x0\n",
    "c1_ = c[1] * v1 + conj(c[1] * v1)\n",
    "c3_ = (c[1] * v1 - conj(c[1] * v1)) * im\n",
    "\n",
    "display(c1_)\n",
    "display(c[2]*v2)\n",
    "display(c3_)\n",
    "\n",
    "x(t) = c1_ .* (exp(-3*t)*cos(2t)) .+ c[2] * v2 .* exp(-t) .+ c3_ .* (exp(-3*t)*sin(2t))\n",
    "display(real(x.(sol.t)))\n",
    "display(real(sol.u))"
   ]
  },
  {
   "cell_type": "code",
   "execution_count": null,
   "id": "64ce24df",
   "metadata": {},
   "outputs": [],
   "source": []
  }
 ],
 "metadata": {
  "kernelspec": {
   "display_name": "Julia 1.8.2",
   "language": "julia",
   "name": "julia-1.8"
  },
  "language_info": {
   "file_extension": ".jl",
   "mimetype": "application/julia",
   "name": "julia",
   "version": "1.8.2"
  }
 },
 "nbformat": 4,
 "nbformat_minor": 5
}
