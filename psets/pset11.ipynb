{
 "cells": [
  {
   "cell_type": "markdown",
   "id": "0d30ffa1",
   "metadata": {},
   "source": [
    "# 18.06 Problem Set 11\n",
    "\n",
    "Due **Wednesday**, November 23 at 11am."
   ]
  },
  {
   "cell_type": "markdown",
   "id": "8381feb2",
   "metadata": {},
   "source": [
    "## Problem 1 (5+5+5 points)\n",
    "\n",
    "Suppose that $M$ is a diagonalizable $m \\times m$ Markov matrix with all positive entries.    For each of the following, say whether the ODE solutions at large times $t$ are expected to be **exponentially growing**, **exponentially decaying**, **oscillating forever**, or **approaching a nonzero constant**, for a randomly chosen initial condition $x(0)$ — or **multiple possibilities depending on M**.  Justify your answers.\n",
    "\n",
    "**(a)** $\\frac{dx}{dt} = Mx$.\n",
    "\n",
    "**(b)** $\\frac{dx}{dt} = (M-I)x$.\n",
    "\n",
    "**(c)** $\\frac{dx}{dt} = (M^2-M-I)x$."
   ]
  },
  {
   "cell_type": "markdown",
   "id": "1398486f",
   "metadata": {},
   "source": [
    "## Problem 2 (10 points)\n",
    "\n",
    "In class we showed that, for a complex-conjugate pair of eigenvalues $\\lambda_1 = a+ib$  and $\\lambda_2 = \\overline{\\lambda_1} = a-ib$, eigenvectors $x_1$ and $x_2 = \\overline{x_1}$, and (scalar) coefficients $c_1$ and $c_2 = \\overline{c_1}$, we can write\n",
    "\n",
    "$$\n",
    "c_1 e^{\\lambda_1 t}x_1  + c_2 e^{\\lambda_2 t}x_2 = \n",
    "c_1 e^{\\lambda_1 t}x_1 + \\overline{c_1 e^{\\lambda_1 t}x_1} = 2\\mathrm{Re}\\left[ c_1 e^{\\lambda_1 t}x_1 \\right] = 2e^{at} \\mathrm{Re}\\left[ c_1 e^{ibt}x_1 \\right]\n",
    "$$\n",
    "which turned into a vector of terms proportional to $r e^{at} \\cos(bt + \\phi)$, where the amplitude $r$ and phase $\\phi$ depended on the coefficient $c_1$ and the eigenvector $x_1$ components.\n",
    "\n",
    "Derive that we can **alternatively** write\n",
    "$$\n",
    "c_1 e^{\\lambda_1 t}x_1 + \\overline{c_1 e^{\\lambda_1 t}x_1} = e^{at} \\left(v_1 \\cos(bt) + v_2 \\sin(bt) \\right)\n",
    "$$\n",
    "for some vectors $v_1 = \\_\\_\\_\\_\\_, v_2 = \\_\\_\\_\\_\\_$ in terms of $c_1$ and $x_1$.  (Hint: break $c_1 x_1$ into its real and imaginary parts, i.e. write $c_1 x_1 = \\text{(real part)} + i \\text{(imag part)}$.)  "
   ]
  },
  {
   "cell_type": "markdown",
   "id": "34993f46",
   "metadata": {},
   "source": [
    "## Problem 3 (10+5 points)\n",
    "\n",
    "Professor May Trix is trying to construct an 18.06 homework question in which $\\frac{dx}{dt}=Ax$ has the solution $$x(t)=v_{1}e^{-3t}\\cos(2t)+v_{2}e^{-t}+v_{3}e^{-3t}\\sin(2t)$$ for some nonzero real  constant vectors $v_{1},v_{2},v_{3}$, and some initial condition $x(0)$. Help May construct $A, v_{1}, v_{2}, v_{3},$ and $x(0)$:\n",
    "\n",
    "**(a)** Write down a numerical formula for a possible real matrix $A$ such that $A$ is as small in size as possible and where $A$ contains no zero entries. Your formula can be left as a product of some matrices and/or matrix inverses — you don't need to multiply them out or invert any matrices, but you should give possible numeric values for all of the matrices in your formula.  (You don't need to explicitly check that your $A$ has no zero entries as long as zero entries seem unlikely. e.g. the inverse of a matrix with no special structure probably has no zero entries.  It wouldn't hurt to check in Julia, however.)\n",
    "\n",
    "Hint: do problem 2 first.\n",
    "\n",
    "(Note that there are many possible answers here, but they will all have certain things in common.)\n",
    "\n",
    "**(b)** Using the numbers that you chose from the formula in your previous part, give possible corresponding (numeric) values for $x(0)$, $v_{1}$, $v_{2}$, and $v_{3}$."
   ]
  }
 ],
 "metadata": {
  "kernelspec": {
   "display_name": "Julia 1.8.0",
   "language": "julia",
   "name": "julia-1.8"
  },
  "language_info": {
   "file_extension": ".jl",
   "mimetype": "application/julia",
   "name": "julia",
   "version": "1.8.1"
  }
 },
 "nbformat": 4,
 "nbformat_minor": 5
}
