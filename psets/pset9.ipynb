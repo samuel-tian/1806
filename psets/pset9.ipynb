{
 "cells": [
  {
   "cell_type": "markdown",
   "id": "07eb516b",
   "metadata": {},
   "source": [
    "# 18.06 Problem Set 9\n",
    "\n",
    "This short pset is due **Wednesday**, November 9, since Friday is a holiday."
   ]
  },
  {
   "cell_type": "markdown",
   "id": "508e24d2",
   "metadata": {},
   "source": [
    "## Problem 1 (5+5+5 points)\n",
    "\n",
    "Suppose that $A$ is a $3\\times 3$ matrix with eigenvalues $\\lambda_1 = 1, \\lambda_2 = -1, \\lambda_3 = 2$ and corresponding eigenvectors $x_1, x_2, x_3$.\n",
    "\n",
    "**(a)** Give eigenvectors and eigenvalues of $(A^2 - 3A + 4I)^{-1}$\n",
    "\n",
    "**(b)** For what value(s), if any, of the scalar $\\mu$ is $B = A^2 - 3A + \\mu I$ **singular**, which corresponds to $B$ having one or more eigenvalues equal to \\_\\_\\_\\_\\_\\_\\_.\n",
    "\n",
    "**(c)** $A^n x$ for large $n$ is very nearly parallel to \\_\\_\\_\\_\\_\\_\\_ unless $x$ is \\_\\_\\_\\_\\_\\_\\_."
   ]
  },
  {
   "cell_type": "markdown",
   "id": "31f52007",
   "metadata": {},
   "source": [
    "## Problem 2 (10 points)\n",
    "\n",
    "Run `using LinearAlgebra` followed by running `eigvals(randn(3,3))` a few times.\n",
    "\n",
    "Explain why a $3\\times 3$ real matrix $A$ must have at least one real eigenvalue, and in fact this must be true for any $m \\times m$ real matrix if $m$ is \\_\\_\\_\\_\\_\\_ (most general answer)."
   ]
  },
  {
   "cell_type": "markdown",
   "id": "1f1c6ab4",
   "metadata": {},
   "source": [
    "## Problem 3 (3+3+4+3+3 points)\n",
    "\n",
    "Consider the following recurrence:\n",
    "$$\n",
    "f_n = \\frac{f_{n-2} - f_{n-1}}{2}\n",
    "$$\n",
    "\n",
    "Suppose that we start it with $f_0=0$ and $f_1=1$.  Then the first few terms in the sequence are:\n",
    "$$\n",
    "f_0,f_1,f_2,\\ldots = 0, 1, -\\frac{1}{2}, \\frac{3}{4}, -\\frac{5}{8}, \\frac{11}{16}, -\\frac{21}{32}, \\frac{43}{64}, -\\frac{85}{128}, \\frac{171}{256}, -\\frac{341}{512}, \\frac{683}{1024}, -\\frac{1365}{2048}, \\frac{2731}{4096}, \\ldots\n",
    "$$\n",
    "\n",
    "**(a)** Similar to the Fibonacci sequence from class, we can write this recurrence in matrix form: $$\\begin{pmatrix} f_n \\\\ f_{n-1} \\end{pmatrix} = A \\begin{pmatrix} f_{n-1} \\\\ f_{n-2} \\end{pmatrix}$$ for what matrix $A$?\n",
    "\n",
    "**(b)** Therefore, write a formula for $f_n = \\_\\_^T A^n \\_\\_$: fill in the blanks with two column vectors. \n",
    "\n",
    "**(c)** Find the eigenvalues of $A$ and corresponding eigenvectors.\n",
    "\n",
    "**(d)** From (c), what should the ratio $f_n / f_{n-1}$ approach for large $n$?  Check that your prediction matches what the terms in the sequence above appear to be doing.\n",
    "\n",
    "**(e)** Give an *exact* formula for $f_n$, using (b) and writing \\_\\_\\_\\_ in the basis of  \\_\\_\\_\\_."
   ]
  }
 ],
 "metadata": {
  "kernelspec": {
   "display_name": "Julia 1.8.1",
   "language": "julia",
   "name": "julia-1.8"
  },
  "language_info": {
   "file_extension": ".jl",
   "mimetype": "application/julia",
   "name": "julia",
   "version": "1.8.1"
  }
 },
 "nbformat": 4,
 "nbformat_minor": 5
}
