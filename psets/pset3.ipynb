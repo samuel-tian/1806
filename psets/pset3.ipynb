{
 "cells": [
  {
   "cell_type": "markdown",
   "id": "643c923e",
   "metadata": {},
   "source": [
    "# Problem Set 3\n",
    "\n",
    "This abbreviated pset is due at 11am on **Friday Sep 30**."
   ]
  },
  {
   "cell_type": "markdown",
   "id": "424e9aaf",
   "metadata": {},
   "source": [
    "## Problem 1 (5+5 points)\n",
    "\n",
    "**(a)** Give the rank of $D$ and a basis for the nullspace $N(D)$ for the $D$ matrix from pset 1:\n",
    "$$\n",
    "D=\\begin{pmatrix} -\\frac{1}{\\Delta x} & \\frac{1}{\\Delta x} & 0 & 0 & 0\\\\ 0 & -\\frac{1}{\\Delta x} & \\frac{1}{\\Delta x} & 0 & 0 \\\\ 0 & 0 & -\\frac{1}{\\Delta x} & \\frac{1}{\\Delta x} & 0 \\\\ 0 & 0 & 0 & -\\frac{1}{\\Delta x} & \\frac{1}{\\Delta x} \\end{pmatrix}\n",
    "$$\n",
    "(Does your answer depend on the value of $\\Delta x$?)\n",
    "\n",
    "**(b)** Consider the vector space $V$ consisting of all differentiable functions $f(x)$, and let $A = \\frac{d}{dx}$ be the linear operator that takes the derivative, i.e. $Af = f'$ for any $f \\in V$.   Give a basis for $N(A)$, the nullspace of the derivative.  Is there a resemblance to your answer in part (a)?"
   ]
  },
  {
   "cell_type": "markdown",
   "id": "38030f6f",
   "metadata": {},
   "source": [
    "## Problem 2 (5+5 points)\n",
    "\n",
    "In class, we considered elimination on the matrix $A = \\begin{pmatrix} 1 & 2 & 3 & 1 \\\\ 1 & 2 & 5 & -3 \\\\ 1 & 2 & 7 & -7 \\end{pmatrix}$, and found that it was rank 2 with the pivot and free columns \"interleaved\" (the first and third columns were pivot columns).\n",
    "\n",
    "**(a)** Give a permutation matrix $P$ such that doing Gaussian elimination on $AP$ (which re-orders the \\_\\_\\_\\_\\_\\_\\_ of $A$) leads to the first two columns being the pivot columns (i.e. \"non-interleaved\" pivot and free columns).\n",
    "\n",
    "**(b)** How do the nullspace $N(AP)$ and column space $C(AP)$ relate to the null and column spaces of $A$, respectively?    In class, a basis for $N(A)$ was the two special solutions $[-2,1,0,0]$ and $[-7,0,2,1]$ and from these how can you get a basis for $N(AP)$?  (Note: the problem gave the nullspace vector as $[-7,0,3,1]$, following a typo from the notes. You won't be penalized if you copy this and use 3 instead of 2 here.)"
   ]
  },
  {
   "cell_type": "markdown",
   "id": "512494b2",
   "metadata": {},
   "source": [
    "## Problem 3 (5+5 points)\n",
    "\n",
    "In class, we saw that *invertible* row operations (such as those occuring in Gaussian elimination) do *not* change the null space of a matrix.\n",
    "\n",
    "**(a)** What happens if you do *non*-invertible row operations $B = EA$?   Does that generally lead to $N(B) = N(A)$, or $N(B) \\subseteq N(A)$ (a *smaller* nullspace), or $N(B) \\supseteq N(A)$ (a *larger* nullspace), or none of these (neither nullspace contains the other)?  Justify your answer.\n",
    "\n",
    "**(b)** Illustrate your answer in (a) with example $A$, $E$, and $B$ matrices, and give bases for the nullspaces of your $A$ and $B$."
   ]
  },
  {
   "cell_type": "markdown",
   "id": "8211c8f6",
   "metadata": {},
   "source": [
    "## Problem 4 (3+3+3+3 points)\n",
    "\n",
    "(from Strang, section 3.3)\n",
    "\n",
    "Give examples of matrices $A$ for which the number of solutions to $Ax=b$ is\n",
    "\n",
    "**(a)** 0 or 1, depending on $b$.\n",
    "\n",
    "**(b)** $\\infty$, regardless of $b$.\n",
    "\n",
    "**(c)** 0 or $\\infty$, depending on $b$\n",
    "\n",
    "**(d)** 1, regardless of $b$."
   ]
  }
 ],
 "metadata": {
  "kernelspec": {
   "display_name": "Julia 1.7.2",
   "language": "julia",
   "name": "julia-1.7"
  },
  "language_info": {
   "file_extension": ".jl",
   "mimetype": "application/julia",
   "name": "julia",
   "version": "1.7.3"
  }
 },
 "nbformat": 4,
 "nbformat_minor": 5
}
