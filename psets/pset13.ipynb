{
 "cells": [
  {
   "cell_type": "markdown",
   "id": "c41f035b",
   "metadata": {},
   "source": [
    "# 18.06 Problem Set 13\n",
    "\n",
    "Due **Wednesday, December 7** at 11am.   This is the **last pset in 18.06 this term** and the **last pset covered on exam 3**."
   ]
  },
  {
   "cell_type": "markdown",
   "id": "92f2a3fc",
   "metadata": {},
   "source": [
    "## Problem 1 (5 + 5 points)\n",
    "\n",
    "For the following parts, use one (or more) of the equivalent properties (from class) that define positive-definiteness.  (There are multiple possible approaches.)\n",
    "\n",
    "**(a)** If $A$ and $B$ are positive-definite $m \\times m$ matrices, why must their sum $A + B$ be positive definite?  \n",
    "\n",
    "**(b)** If $B$ is a positive-definite $m \\times m$ matrix and $C$ is an $m \\times n$ matrix with full column rank, why must $C^H B C$ be positive-definite?"
   ]
  },
  {
   "cell_type": "markdown",
   "id": "4e999567",
   "metadata": {},
   "source": [
    "## Problem 2 (5 points)\n",
    "\n",
    "In class, we analyzed a system with $n$ masses and $n+1$ springs and showed that it satisfied an equation\n",
    "$$\n",
    "m \\frac{d^2x}{dt^2} = -D^T K D x\n",
    "$$\n",
    "for the vector $x \\in \\mathbb{R}^n$ of displacements, and we showed that $-D^T (K/m) D $ was negative-definite, and that this led to oscillating solutions.\n",
    "\n",
    "Suppose that the masses are *not* identical, and let $M$ be the diagonal $n \\times n$ matrix of masses $m_1,\\ldots,m_n > 0$.   If we define $y = \\sqrt{M} x$, then show that $\\frac{d^2y}{dt^2} = By$ where $B$ is negative-definite, and hence we *still* have oscillating solutions."
   ]
  },
  {
   "cell_type": "markdown",
   "id": "44f00641",
   "metadata": {},
   "source": [
    "## Problem 3 (5 + 5 + 5 points)\n",
    "\n",
    "The nullspace $N(A)$ of the real matrix $A$ is spanned by the vector $v = \\begin{pmatrix} 1 \\\\ 2 \\\\ 3 \\\\ 4 \\end{pmatrix}$.\n",
    "\n",
    "**(a)** Give an eigenvector and eigenvalue of the matrix $B = (3I - A^T A)(3I + A^T A)^{-1}$.\n",
    "\n",
    "**(b)** Aside from the eigenvalue identified in (a), if you consider all *other* eigenvalues $\\lambda$ of $B$, which of the following *must* be true? (Indicate *all* that apply.)\n",
    "\n",
    "* purely real, purely imaginary, zero, negative real part, positive real part, $|\\lambda| < 1$, $|\\lambda| > 1$, $|\\lambda| \\le 1$, and/or $|\\lambda| \\ge 1$?\n",
    "\n",
    "Justify your answer.\n",
    "\n",
    "**(c)** Give a good approximate formula for $B^n \\begin{pmatrix} 0 \\\\ -1 \\\\ 0 \\\\ 8 \\end{pmatrix}$ for a large $n$ (give an explicit numerical vector)."
   ]
  }
 ],
 "metadata": {
  "kernelspec": {
   "display_name": "Julia 1.8.0",
   "language": "julia",
   "name": "julia-1.8"
  },
  "language_info": {
   "file_extension": ".jl",
   "mimetype": "application/julia",
   "name": "julia",
   "version": "1.8.2"
  }
 },
 "nbformat": 4,
 "nbformat_minor": 5
}
