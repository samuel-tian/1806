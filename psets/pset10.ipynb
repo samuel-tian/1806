{
 "cells": [
  {
   "cell_type": "markdown",
   "id": "0d30ffa1",
   "metadata": {},
   "source": [
    "# 18.06 Problem Set 10\n",
    "\n",
    "Due Friday, November 18 at 11am."
   ]
  },
  {
   "cell_type": "markdown",
   "id": "8381feb2",
   "metadata": {},
   "source": [
    "## Problem 1 (5+5+5+5 points)\n",
    "\n",
    "In class, we saw that $o = [1,1,\\ldots,1,1]$ is an eigenvector of $M^T$ with eigenvalue $\\lambda = 1$ for any Markov matrix $M$.\n",
    "\n",
    "**(a)** If $x_k$ is an eigenvector of $M$ ($M x_k = \\lambda_k x_k$) for any *other* eigenvalue $\\lambda_k \\ne 1$ of $M$, show that we must have $o^T x_k = 0$: it must be *orthogonal* to $o$.  (Hint: use $o^T = o^T M$.)\n",
    "\n",
    "**(b)** Check your result from (a) numerically for a random $5 \\times 5$ Markov matrix `M = rand(5,5); M = M ./ sum(M, dims=1)`, with eigenvalues `eigvals(M)` and eigenvectors `X = eigvecs(M)`.   (Do `using LinearAlgebra` to get `eigvecs` and `eigvals`.)\n",
    "\n",
    "(Note: if you have a long vector `v`, Julia only shows a few elements by default, but you can show all the elements with `@show v`.  You can also look at the absolute values of the elements with `abs.(v)`, which can be easier to read than complex numbers in checking that entries are small.)\n",
    "\n",
    "**(c)** If we expand an arbitrary $x$ in an eigenvector basis $x = c_1 x_1 + \\cdots + c_m x_m$, letting $x_m$ be a steady-state eigenvector ($\\lambda_m = 1$) and supposing all of the other eigenvalues are $\\ne 1$, show that $o^T x$ gives us a simple formula for $c_m = \\_\\_\\_\\_\\_\\_\\_\\_$.\n",
    "\n",
    "**(d)** Hence, if all other eigenvalues have magnitude $<1$, then $M^n x \\to \\_\\_\\_\\_\\_\\_\\_\\_$ (simple formula in $o,x,x_m$) as $n \\to \\infty$.   Check this formula against `M^100 * [1,2,3,4,5]` for your `M` from (b)."
   ]
  },
  {
   "cell_type": "code",
   "execution_count": 5,
   "id": "f27c499f",
   "metadata": {},
   "outputs": [
    {
     "data": {
      "text/plain": [
       "1×5 Matrix{Float64}:\n",
       " 1.66533e-16  1.66533e-16  6.66134e-16  1.08247e-15  2.2014"
      ]
     },
     "metadata": {},
     "output_type": "display_data"
    }
   ],
   "source": [
    "using LinearAlgebra\n",
    "M = rand(5,5)\n",
    "M = M ./ sum(M, dims=1)\n",
    "e_vals = eigvals(M)\n",
    "X = eigvecs(M)\n",
    "\n",
    "sigma = [1,1,1,1,1]\n",
    "display(abs.(transpose(sigma)*X))"
   ]
  },
  {
   "cell_type": "code",
   "execution_count": 11,
   "id": "24e185a0",
   "metadata": {},
   "outputs": [
    {
     "data": {
      "text/plain": [
       "5-element Vector{Float64}:\n",
       " 3.2293802558301765\n",
       " 2.9549023372773386\n",
       " 3.724219260859915\n",
       " 3.01295127144234\n",
       " 2.0785468745902342"
      ]
     },
     "metadata": {},
     "output_type": "display_data"
    },
    {
     "data": {
      "text/plain": [
       "5-element Vector{ComplexF64}:\n",
       " 3.2293802558301783 + 0.0im\n",
       " 2.9549023372773386 + 0.0im\n",
       "  3.724219260859912 + 0.0im\n",
       "   3.01295127144234 + 0.0im\n",
       " 2.0785468745902334 + 0.0im"
      ]
     },
     "metadata": {},
     "output_type": "display_data"
    }
   ],
   "source": [
    "display(M^100*[1,2,3,4,5])\n",
    "display((dot(sigma, [1,2,3,4,5]) / dot(sigma, (X[:,5]))) * X[:,5])"
   ]
  },
  {
   "cell_type": "markdown",
   "id": "34993f46",
   "metadata": {},
   "source": [
    "## Problem 2 (10+5 points)\n",
    "\n",
    "From Strang, section 6.2.  Consider $A = \\begin{pmatrix} 0.6 & 0.4 \\\\ 0.4 & 0.6 \\end{pmatrix}$ and $B = \\begin{pmatrix} 0.6 & 0.9 \\\\ 0.1 & 0.6 \\end{pmatrix}$.   For this problem you keep in mind the diagonalization of matrices like $A$ and $B$.\n",
    "\n",
    "**(a)** Which of $A^n$ or $B^n$ (or both, or neither) go $\\to \\begin{pmatrix}0 & 0 \\\\ 0 & 0 \\end{pmatrix}$ as $n \\to \\infty$?   Double-check your answer by looking at $A^{100}$ and $B^{100}$ in Julia — these are approaching matrices of rank \\_\\_\\_\\_\\_\\_\\_\\_ and \\_\\_\\_\\_\\_\\_\\_\\_, respectively.\n",
    "\n",
    "**(b)** For what values of the real scalar $\\mu$ is $\\sqrt{A - \\mu I}$ a real matrix?  Check your answer by trying `sqrt(A - μ*I)` for a few values of `μ` in Julia (do `using LinearAlgebra` to get `I`)."
   ]
  },
  {
   "cell_type": "code",
   "execution_count": 12,
   "id": "89cf1d61",
   "metadata": {},
   "outputs": [
    {
     "data": {
      "text/plain": [
       "2×2 Matrix{Float64}:\n",
       " 0.5  0.5\n",
       " 0.5  0.5"
      ]
     },
     "metadata": {},
     "output_type": "display_data"
    },
    {
     "data": {
      "text/plain": [
       "2×2 Matrix{Float64}:\n",
       " 1.32807e-5  3.98421e-5\n",
       " 4.4269e-6   1.32807e-5"
      ]
     },
     "metadata": {},
     "output_type": "display_data"
    }
   ],
   "source": [
    "A = [0.6 0.4;0.4 0.6]\n",
    "B = [0.6 0.9;0.1 0.6]\n",
    "display(A^100)\n",
    "display(B^100)"
   ]
  },
  {
   "cell_type": "code",
   "execution_count": 13,
   "id": "757f5667",
   "metadata": {},
   "outputs": [
    {
     "name": "stdout",
     "output_type": "stream",
     "text": [
      "sqrt(A - μ * I) = [0.6324555320336757 0.3162277660168379; 0.3162277660168379 0.6324555320336757]\n",
      "sqrt(A - μ * I) = [0.4472135954999578 0.4472135954999578; 0.4472135954999578 0.4472135954999578]\n",
      "sqrt(A - μ * I) = ComplexF64[0.4183300132670377 + 0.15811388300841897im 0.4183300132670377 - 0.15811388300841897im; 0.4183300132670377 - 0.15811388300841897im 0.4183300132670377 + 0.15811388300841897im]\n"
     ]
    },
    {
     "data": {
      "text/plain": [
       "2×2 Matrix{ComplexF64}:\n",
       " 0.41833+0.158114im  0.41833-0.158114im\n",
       " 0.41833-0.158114im  0.41833+0.158114im"
      ]
     },
     "execution_count": 13,
     "metadata": {},
     "output_type": "execute_result"
    }
   ],
   "source": [
    "A = [0.6 0.4;0.4 0.6]\n",
    "\n",
    "μ = 0.1\n",
    "@show(sqrt(A - μ*I))\n",
    "μ = 0.2\n",
    "@show(sqrt(A - μ*I))\n",
    "\n",
    "μ = 0.3\n",
    "@show(sqrt(A - μ*I))"
   ]
  },
  {
   "cell_type": "code",
   "execution_count": null,
   "id": "93ebd9c5",
   "metadata": {},
   "outputs": [],
   "source": []
  }
 ],
 "metadata": {
  "kernelspec": {
   "display_name": "Julia 1.8.2",
   "language": "julia",
   "name": "julia-1.8"
  },
  "language_info": {
   "file_extension": ".jl",
   "mimetype": "application/julia",
   "name": "julia",
   "version": "1.8.2"
  }
 },
 "nbformat": 4,
 "nbformat_minor": 5
}
