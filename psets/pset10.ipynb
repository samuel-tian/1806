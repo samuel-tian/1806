{
 "cells": [
  {
   "cell_type": "markdown",
   "id": "0d30ffa1",
   "metadata": {},
   "source": [
    "# 18.06 Problem Set 10\n",
    "\n",
    "Due Friday, November 18 at 11am."
   ]
  },
  {
   "cell_type": "markdown",
   "id": "8381feb2",
   "metadata": {},
   "source": [
    "## Problem 1 (5+5+5+5 points)\n",
    "\n",
    "In class, we saw that $o = [1,1,\\ldots,1,1]$ is an eigenvector of $M^T$ with eigenvalue $\\lambda = 1$ for any Markov matrix $M$.\n",
    "\n",
    "**(a)** If $x_k$ is an eigenvector of $M$ ($M x_k = \\lambda_k x_k$) for any *other* eigenvalue $\\lambda_k \\ne 1$ of $M$, show that we must have $o^T x_k = 0$: it must be *orthogonal* to $o$.  (Hint: use $o^T = o^T M$.)\n",
    "\n",
    "**(b)** Check your result from (a) numerically for a random $5 \\times 5$ Markov matrix `M = rand(5,5); M = M ./ sum(M, dims=1)`, with eigenvalues `eigvals(M)` and eigenvectors `X = eigvecs(M)`.   (Do `using LinearAlgebra` to get `eigvecs` and `eigvals`.)\n",
    "\n",
    "(Note: if you have a long vector `v`, Julia only shows a few elements by default, but you can show all the elements with `@show v`.  You can also look at the absolute values of the elements with `abs.(v)`, which can be easier to read than complex numbers in checking that entries are small.)\n",
    "\n",
    "**(c)** If we expand an arbitrary $x$ in an eigenvector basis $x = c_1 x_1 + \\cdots + c_m x_m$, letting $x_m$ be a steady-state eigenvector ($\\lambda_m = 1$) and supposing all of the other eigenvalues are $\\ne 1$, show that $o^T x$ gives us a simple formula for $c_m = \\_\\_\\_\\_\\_\\_\\_\\_$.\n",
    "\n",
    "**(d)** Hence, if all other eigenvalues have magnitude $<1$, then $M^n x \\to \\_\\_\\_\\_\\_\\_\\_\\_$ (simple formula in $o,x,x_m$) as $n \\to \\infty$.   Check this formula against `M^100 * [1,2,3,4,5]` for your `M` from (b)."
   ]
  },
  {
   "cell_type": "markdown",
   "id": "34993f46",
   "metadata": {},
   "source": [
    "## Problem 2 (10+5 points)\n",
    "\n",
    "From Strang, section 6.2.  Consider $A = \\begin{pmatrix} 0.6 & 0.4 \\\\ 0.4 & 0.6 \\end{pmatrix}$ and $B = \\begin{pmatrix} 0.6 & 0.9 \\\\ 0.1 & 0.6 \\end{pmatrix}$.   For this problem you keep in mind the diagonalization of matrices like $A$ and $B$.\n",
    "\n",
    "**(a)** Which of $A^n$ or $B^n$ (or both, or neither) go $\\to \\begin{pmatrix}0 & 0 \\\\ 0 & 0 \\end{pmatrix}$ as $n \\to \\infty$?   Double-check your answer by looking at $A^{100}$ and $B^{100}$ in Julia — these are approaching matrices of rank \\_\\_\\_\\_\\_\\_\\_\\_ and \\_\\_\\_\\_\\_\\_\\_\\_, respectively.\n",
    "\n",
    "**(b)** For what values of the real scalar $\\mu$ is $\\sqrt{A - \\mu I}$ a real matrix?  Check your answer by trying `sqrt(A - μ*Ι)` for a few values of `μ` in Julia (do `using LinearAlgebra` to get `I`)."
   ]
  }
 ],
 "metadata": {
  "kernelspec": {
   "display_name": "Julia 1.8.1",
   "language": "julia",
   "name": "julia-1.8"
  },
  "language_info": {
   "file_extension": ".jl",
   "mimetype": "application/julia",
   "name": "julia",
   "version": "1.8.1"
  }
 },
 "nbformat": 4,
 "nbformat_minor": 5
}
