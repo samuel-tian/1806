{
 "cells": [
  {
   "cell_type": "markdown",
   "id": "19c52d5d",
   "metadata": {},
   "source": [
    "# 18.06 Pset 2\n",
    "\n",
    "Due Monday September 26 (since Friday Sep 23 is a holiday) at 11am on GradeScope.  Submit PDF of your handwritten solutions along with your (clearly labeled) Julia code."
   ]
  },
  {
   "cell_type": "markdown",
   "id": "5fccdd16",
   "metadata": {},
   "source": [
    "## Problem 1 (7+3+5 points)\n",
    "\n",
    "\n",
    "Consider the following $5 \\times 5$ matrix, which is *almost* upper triangular:\n",
    "$$\n",
    "A = \\begin{pmatrix}\n",
    "2 & -2 & 0 & 1 & 1\\\\\n",
    "2 & -1 & 1 & -2 & 1\\\\\n",
    " & 3 & 4 & -3 & 1\\\\\n",
    " &  & -2 & -5 & -3\\\\\n",
    " &  &  & 7 & 3\\\\\n",
    "\\end{pmatrix}\n",
    "$$\n",
    "\n",
    "Corresponding in Julia to:"
   ]
  },
  {
   "cell_type": "code",
   "execution_count": null,
   "id": "eba1bcbc",
   "metadata": {},
   "outputs": [],
   "source": [
    "A = [2 -2 0 1 1; 2 -1 1 -2 1; 0 3 4 -3 1; 0 0 -2 -5 -3; 0 0 0 7 3]"
   ]
  },
  {
   "cell_type": "markdown",
   "id": "86a5189f",
   "metadata": {},
   "source": [
    "\n",
    "**(a)**\n",
    "\n",
    "Compute (by hand) its LU factorization $A = LU$ via Gaussian elimination (i.e. give both $L$ and $U$).\n",
    "\n",
    "Notice any special pattern to the nonzero entries in L and/or U?\n",
    "\n",
    "**(b)**\n",
    "\n",
    "Why doesn't your hand calculation match the output of Julia's `lu(A)` function?   Try it, it's not even close!  (Do `using LinearAlgebra` in order to access the `lu` function.)\n",
    "\n",
    "**(c)**\n",
    "\n",
    "Suppose you carried out arithmetic at the *same rate*, but $A$ was **10 times** larger: a $50\\times 50$ nearly upper triangular matrix (upper triangular + nonzeros just below the diagonal).\n",
    "\n",
    "About how much longer should part (a) take?  10 times, 100 times, 1000 times?\n",
    "\n",
    "Is this different from how it would scale for a general matrix with no special pattern of zero entries?"
   ]
  },
  {
   "cell_type": "markdown",
   "id": "5034ad02",
   "metadata": {},
   "source": [
    "## Problem 2 (8+2 points)\n",
    "\n",
    "Consider the three $4 \\times 4$ matrices\n",
    "$$\n",
    "A = \\begin{pmatrix}\n",
    "1 & -3 & 0 & 3\\\\\n",
    "  & 1 & 1 & 2\\\\\n",
    "  &   & 1 & -1\\\\\n",
    "  &   &   & 1\\\\\n",
    "\\end{pmatrix}, \\;\n",
    "B = \\begin{pmatrix}\n",
    "-3 & -1 & 1 & -2\\\\\n",
    "-3 & 0 & 0 & -3\\\\\n",
    "1 & 3 & 3 & -3\\\\\n",
    "2 & 3 & 2 & 0\\\\\n",
    "\\end{pmatrix}, \\; C = A (AB)^{-1}\n",
    "$$\n",
    "\n",
    "\n",
    "**(a)** Compute the third column of $C^{-1}$ without computing the whole inverse of any matrix.  Think before plugging-and-chugging!\n",
    "\n",
    "**(b)** Check your answer by explicitly computing $C^{-1}$ in Julia."
   ]
  },
  {
   "cell_type": "code",
   "execution_count": null,
   "id": "523d456a",
   "metadata": {},
   "outputs": [],
   "source": [
    "# fill these in:\n",
    "A = ??????\n",
    "B = ??????\n",
    "\n",
    "C = A / (A*B)  # computes A(AB)⁻¹\n",
    "C^-1 # computes C⁻¹"
   ]
  },
  {
   "cell_type": "markdown",
   "id": "431096d8",
   "metadata": {},
   "source": [
    "## Problem 3 (12 points)\n",
    "\n",
    "(Based on Strang problems.)\n",
    "\n",
    "Which of the following subsets of $\\mathbb{R^3}$ are actually subspaces?  (Recall that $[x_1,x_2,x_3]$, with commas, denotes a column vector.)   If it is *not* a subspace, give a rule that it violates.\n",
    "\n",
    "1. The plane of vectors $[x_1,x_2,x_3]$ with $x_1 = x_2$\n",
    "2. The plane of vectors $[x_1,x_2,x_3]$ with $x_1 = 1$\n",
    "3. The vectors $[x_1,x_2,x_3]$ satisfying $x_1 x_2 x_3 = 0$\n",
    "4. All linear combinations of $v = [1,4,0]$ and $w = [2,2,2]$\n",
    "5. The vectors $[x_1,x_2,x_3]$ satisfying $x_1 + x_2  + x_3 = 0$\n",
    "6. The vectors $[x_1,x_2,x_3]$ satisfying $x_1 \\le x_2 \\le x_3$"
   ]
  },
  {
   "cell_type": "markdown",
   "id": "bdd2e20d",
   "metadata": {},
   "source": [
    "## Problem 4 (10 points)\n",
    "\n",
    "Nowadays, numerical linear algebra programs deal with small pivots by swapping rows, leading to the $PA = LU$ factorization.   Prof. Edelman mentioned that, in the elder days, people would occasionally swap *columns* instead, leading to a factorization $AP = LU$ for some (different) permutation $P$ (and different $L$ and $U$ matrices). \n",
    "\n",
    "Given a factorization $AP = LU$ for a nonsingular matrix $A$, outline how you would use it to solve $Ax=b$ for $x$ (analogous to how we outlined the use of $PA=LU$ in class).\n",
    "\n",
    "(You can exploit the fact, explained in section 2.7 of the textbook, that you can invert permutations \"for free\": $P^{-1} = P^T$ for any permutation matrix $P$, where the transpose $P^T$ of a matrix is simply formed by swapping the rows of $P$ with the columns of $P$.  We will spend more time on this later in 18.06.)"
   ]
  },
  {
   "cell_type": "markdown",
   "id": "11bb5aa6",
   "metadata": {},
   "source": [
    "## Problem 5 (9 points)\n",
    "\n",
    "Suppose we have a $3 \\times 3$ matrix $A$.  We will transform this into a *new* matrix $B$ by doing operations on the rows or columns of $A$ as follows.   For each part, explain how to compute $B$ as $B=EA$ or $B=AE$ (say which!) and give the matrix $E$.\n",
    "\n",
    "1. Reverse the order of the rows of $A$.\n",
    "2. Add the second row to the third row, *then* replace the second row with the sum of the first and (new) third rows.\n",
    "3. Subtract the third column from the first and second columns."
   ]
  }
 ],
 "metadata": {
  "kernelspec": {
   "display_name": "Julia 1.7.3",
   "language": "julia",
   "name": "julia-1.7"
  },
  "language_info": {
   "file_extension": ".jl",
   "mimetype": "application/julia",
   "name": "julia",
   "version": "1.7.3"
  }
 },
 "nbformat": 4,
 "nbformat_minor": 5
}
