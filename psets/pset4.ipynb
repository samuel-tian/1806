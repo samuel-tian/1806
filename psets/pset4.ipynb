{
 "cells": [
  {
   "cell_type": "markdown",
   "id": "643c923e",
   "metadata": {},
   "source": [
    "# Problem Set 4\n",
    "\n",
    "This abbreviated pset is due at 11am on **Wed Oct 5**.  This is the **last pset covered on exam 1**."
   ]
  },
  {
   "cell_type": "markdown",
   "id": "424e9aaf",
   "metadata": {},
   "source": [
    "## Problem 1 (10+10 points)\n",
    "\n",
    "Consider the equation $ABx=b$, given by:\n",
    "$$\n",
    "\\underbrace{\\begin{pmatrix} 2 & 1 & 2 \\\\ & -1 & 2 \\\\ & & 1 \\end{pmatrix}}_A\n",
    "\\underbrace{\\begin{pmatrix} -1 & 1 & 2 & 1 \\\\ 3 & -2 & -5 & -1 \\\\ 0 & 1 & 1 & 2 \\end{pmatrix}}_B x = \\underbrace{\\begin{pmatrix} 17 \\\\ 19 \\\\ 7 \\end{pmatrix}}_b\n",
    "$$\n",
    "\n",
    "**(a)** Give **bases for the nullspaces** $N(A)$, $N(B)$, and $N(AB)$.   (Hint: you should only have to do Gaussian elimination *once*.)\n",
    "\n",
    "**(b)** Give the **complete solution** $x$ to $ABx=b$, and show how you can do this *without* every multiplying $A$ and $B$ together to explicitly form the matrix $AB$."
   ]
  },
  {
   "cell_type": "markdown",
   "id": "38030f6f",
   "metadata": {},
   "source": [
    "## Problem 2 (10+5+5 points for A, b₁, and b₂)\n",
    "\n",
    "$Ax = b_1$ has **no** solution, and the **complete solution** to $Ax=b_2$ is:\n",
    "$$\n",
    "x = \\begin{pmatrix} 1\\\\2 \\\\3\\\\4 \\end{pmatrix} + \\alpha_1 \\begin{pmatrix} 1\\\\1 \\\\0\\\\-1 \\end{pmatrix} + \\alpha_2 \\begin{pmatrix} -2\\\\0 \\\\1\\\\-2 \\end{pmatrix}\n",
    "$$\n",
    "for all possible scalars $\\alpha_1$ and $\\alpha_2$.\n",
    "\n",
    "Give **one** example of a possible matrix $A$ (with **all nonzero entries**) and possible right-hand sides $b_1$ and $b_2$ (with any entries you want) that are consistent with the above facts.  (The *same* $A$ for both $b_1$ and $b_2$.)\n",
    "\n",
    "Hint: start by thinking about possible sizes and ranks for $A$, and then think how the columns are/aren't linearly dependent."
   ]
  },
  {
   "cell_type": "markdown",
   "id": "512494b2",
   "metadata": {},
   "source": [
    "## Problem 3 (5+5+10 points)\n",
    "\n",
    "Consider the vectors:\n",
    "$$\n",
    "a_1 = \\begin{pmatrix} 0\\\\0\\\\0\\\\0\\\\0 \\end{pmatrix}, \\qquad\n",
    "a_2 = \\begin{pmatrix} 1\\\\2\\\\3\\\\4\\\\5 \\end{pmatrix}, \\qquad\n",
    "a_3 = \\begin{pmatrix} 1\\\\1\\\\5\\\\4\\\\9 \\end{pmatrix}, \\qquad\n",
    "a_4 = \\begin{pmatrix} 1\\\\3\\\\1\\\\4\\\\1 \\end{pmatrix}.\n",
    "$$\n",
    "\n",
    "Give **a basis** for the **orthogonal complement** of the subspace (of $\\mathbb{R}^5$) **spanned by**:\n",
    "\n",
    "**(a)** $a_1$\n",
    "\n",
    "**(b)** $a_2$\n",
    "\n",
    "**(c)** $a_1,a_2,a_3,\\mbox{ and }a_4$.\n",
    "\n",
    "(Hint: this is a basis for $C(\\_\\_)^\\perp = \\_\\_\\_\\_$.)"
   ]
  }
 ],
 "metadata": {
  "kernelspec": {
   "display_name": "Julia 1.7.2",
   "language": "julia",
   "name": "julia-1.7"
  },
  "language_info": {
   "file_extension": ".jl",
   "mimetype": "application/julia",
   "name": "julia",
   "version": "1.7.3"
  }
 },
 "nbformat": 4,
 "nbformat_minor": 5
}
